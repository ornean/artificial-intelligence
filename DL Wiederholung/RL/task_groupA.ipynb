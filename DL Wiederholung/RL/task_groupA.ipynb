{
 "nbformat": 4,
 "nbformat_minor": 0,
 "metadata": {
  "colab": {
   "name": "pendulum_exam_ti.ipynb",
   "provenance": [],
   "collapsed_sections": []
  },
  "kernelspec": {
   "name": "python3",
   "display_name": "Python 3"
  },
  "language_info": {
   "name": "python"
  }
 },
 "cells": [
  {
   "cell_type": "markdown",
   "source": [
    "# Lösungsvorschlag Branching DQN - Pendulum Continuous\n",
    "\n",
    "\n",
    "Reference:\n",
    "https://github.com/openai/gym/blob/master/gym/envs/classic_control/pendulum.py\n",
    "\n",
    "## Aufgaben\n",
    "1. Beheben Sie den Fehler in der BranchingQNetwork-Klasse (Netzwerk)\n",
    "2. Sorgen Sie dafür das der Learning-Rate Parameter im AgentConfig auch angewandt wird\n",
    "3. Kontrolliere die Reihenfolge von `loss.backward`, `adam.zero_grad` und `adam.step`. Bringe sie in die richtige Reihenfolge. Bei Pointer `### AUFGABE 3 ###` bis `### AUFGABE 3 Ende ###`\n",
    "4. Wofür verwendet man `bins` und wo werden diese definiert?\n",
    "5. Wie sieht die Einteilung die diskrete Einteilung des Action-Space aus? (Als Array)\n",
    "6. Visualisieren Sie den Reward in Abhängigkeit der Frames(Episoden), mit 10_000 Frames\n",
    "\n",
    "> Lösungen siehe mit FIX markierte Stellen"
   ],
   "metadata": {
    "id": "hzxAHEMcgvQx"
   }
  },
  {
   "cell_type": "code",
   "execution_count": 1,
   "metadata": {
    "id": "JNMBYBSgBL9Q"
   },
   "outputs": [],
   "source": [
    "import collections\n",
    "import random\n",
    "import numpy as np\n",
    "\n",
    "import gym\n",
    "\n",
    "import torch\n",
    "import torch.nn as nn\n",
    "import torch.nn.functional as F \n",
    "import torch.optim as optim\n",
    "\n",
    "from tqdm import tqdm\n",
    "import matplotlib.pyplot as plt\n",
    "plt.style.use('ggplot')"
   ]
  },
  {
   "cell_type": "code",
   "source": [
    "class ExperienceReplayMemory:\n",
    "    def __init__(self, capacity):\n",
    "        self.capacity = capacity\n",
    "        self.memory = []\n",
    "\n",
    "    def push(self, transition):\n",
    "        self.memory.append(transition)\n",
    "        if len(self.memory) > self.capacity:\n",
    "            del self.memory[0]\n",
    "\n",
    "    def sample(self, batch_size):\n",
    "        batch = random.sample(self.memory, batch_size)\n",
    "        states = []\n",
    "        actions = []\n",
    "        rewards = []\n",
    "        next_states = []\n",
    "        dones = []\n",
    "        for b in batch:\n",
    "            states.append(b[0])\n",
    "            actions.append(b[1])\n",
    "            rewards.append(b[2])\n",
    "            next_states.append(b[3])\n",
    "            dones.append(b[4])\n",
    "        return states, actions, rewards, next_states, dones\n",
    "\n",
    "    def __len__(self):\n",
    "        return len(self.memory)"
   ],
   "metadata": {
    "id": "8E23GFQlBQ9-"
   },
   "execution_count": 2,
   "outputs": []
  },
  {
   "cell_type": "code",
   "source": [
    "class BranchingQNetwork(nn.Module):                 # Agent\n",
    "    def __init__(self,\n",
    "                 obs,                               # observations\n",
    "                 ac_dim, n):                        # continous actions auf n sections discretisiert\n",
    "        super().__init__()\n",
    "        self.ac_dim = ac_dim\n",
    "        self.n = n\n",
    "        self.model = nn.Sequential(\n",
    "            nn.Linear(obs, 128),                    # Input = Observations\n",
    "            nn.ReLU(),\n",
    "            nn.Linear(128,128),                     # FIX 128 anstelle 128\n",
    "            nn.ReLU() )\n",
    "        self.value_head = nn.Linear(128, 1)         # Value State\n",
    "                                                    # Advantage pro Action\n",
    "        self.adv_heads = nn.ModuleList([nn.Linear(128, n) for i in range(ac_dim)])\n",
    "\n",
    "    def forward(self, x):\n",
    "        out = self.model(x)\n",
    "\n",
    "        value = self.value_head(out)\n",
    "        advs = torch.stack([l(out) for l in self.adv_heads], dim = 1)\n",
    "\n",
    "        q_val = value.unsqueeze(2) + advs - advs.mean(2, keepdim = True )\n",
    "        return q_val\n",
    "\n",
    "\n",
    "    def update_model(self, other_model, tau=None):\n",
    "        \"\"\"Updates the model weigths, either 1:1 if tau is None or weighted with tau [0.0 - 1.0).\n",
    "        The weighted update follows the following logic for model weights\n",
    "        but is adapted for the model.state_dict parameters:\n",
    "            new_target_weights = []\n",
    "            for target, online in zip(self.model.get_weights(), other_model.model.get_weights()):\n",
    "                target_ratio = (1.0 - self.tau) * target            # target_model (self)\n",
    "                online_ratio = self.tau * online                    # online_model (other_model)\n",
    "                mixed_weights = target_ratio + online_ratio\n",
    "                new_target_weights.append(mixed_weights)\n",
    "            self.model.set_weights(new_target_weights)\n",
    "        \"\"\"\n",
    "\n",
    "        # standard update without weights\n",
    "        if tau is None:\n",
    "            self.load_state_dict( other_model.state_dict() )\n",
    "            return\n",
    "\n",
    "        for target_param, local_param in zip(other_model.parameters(), self.parameters()):\n",
    "          target_param.data.copy_(tau * local_param.data + (1.0 - tau) * target_param.data)"
   ],
   "metadata": {
    "id": "4OL7fD_oBfc4"
   },
   "execution_count": 3,
   "outputs": []
  },
  {
   "cell_type": "code",
   "source": [
    "class AgentConfig:\n",
    "    def __init__(self,\n",
    "                 epsilon_start = 1.,\n",
    "                 epsilon_final = 0.01,\n",
    "                 epsilon_decay = 800,               # Orig=8000\n",
    "                 gamma = 0.99,\n",
    "                 lr = 1e-4,\n",
    "                 target_net_update_tau = 0.3,       # Orig=None, changed for weighted update to 0.1 [0.0. ... 1.0]\n",
    "                 target_net_update_freq = 300,      # Orig=1000, changed for weighted update to 100\n",
    "                 memory_size = 100000,\n",
    "                 batch_size = 128,\n",
    "                 learning_starts = 5000,\n",
    "                 max_frames = 10_000):\n",
    "        self.epsilon_start = epsilon_start\n",
    "        self.epsilon_final = epsilon_final\n",
    "        self.epsilon_decay = epsilon_decay\n",
    "        self.epsilon_by_frame = lambda i: self.epsilon_final + (self.epsilon_start - self.epsilon_final) * np.exp(-1. * i / self.epsilon_decay)\n",
    "        # gamma and learining rate\n",
    "        self.gamma =gamma\n",
    "        self.lr = lr                                # FIX: Zuweisung lr anstelle 1000\n",
    "        # update frequency, memory and batch size\n",
    "        self.target_net_update_tau = target_net_update_tau\n",
    "        self.target_net_update_freq = target_net_update_freq\n",
    "        self.memory_size =memory_size\n",
    "        self.batch_size =batch_size\n",
    "        # initialize lr and frames\n",
    "        self.learning_starts = learning_starts\n",
    "        self.max_frames = max_frames\n"
   ],
   "metadata": {
    "id": "MwURBfZSBi39"
   },
   "execution_count": 4,
   "outputs": []
  },
  {
   "cell_type": "code",
   "source": [
    "class BranchingDQNAgent(nn.Module):\n",
    "    def __init__(self, obs, ac, n, config):\n",
    "        super().__init__()\n",
    "        # Model\n",
    "        self.q = BranchingQNetwork(obs, ac,n )\n",
    "        self.target = BranchingQNetwork(obs, ac,n )\n",
    "        # self.target.load_state_dict(self.q.state_dict())\n",
    "        self.target.update_model(self.q, tau=None)\n",
    "        # Model update parameters\n",
    "        self.target_net_update_tau = config.target_net_update_tau\n",
    "        self.target_net_update_freq = config.target_net_update_freq\n",
    "        self.update_counter = 0\n",
    "\n",
    "    def get_action(self, x): \n",
    "        with torch.no_grad():\n",
    "            # a = self.q(x).max(1)[1]\n",
    "            out = self.q(x).squeeze(0)                  # Beispiel\n",
    "            action = torch.argmax(out, dim = 1)         # Tensor(4) [1,0,3,3] = 4 Aktionen, A1=Bin 1, A2=Bin 0, A3=Bin 3, A4=Bin 3\n",
    "        return action.numpy()\n",
    "\n",
    "    def update_policy(self, adam, memory, params): \n",
    "        b_states, b_actions, b_rewards, b_next_states, b_masks = memory.sample(params.batch_size)\n",
    "        states = torch.tensor(b_states).float()\n",
    "        actions = torch.tensor(b_actions).long().reshape(states.shape[0],-1,1)\n",
    "        rewards = torch.tensor(b_rewards).float().reshape(-1,1)\n",
    "        next_states = torch.tensor(b_next_states).float()\n",
    "        masks = torch.tensor(b_masks).float().reshape(-1,1)\n",
    "\n",
    "        # Gather: Extraktion Q-Values für Aktionen (Index 2 = dritte Position = continous values)\n",
    "        # - self.q(states)   = Tensor(128,4,6) wobei 4 Actions mit 6 continous values\n",
    "        # - actions          = Tensor(128,4,1) wobei 4 Actions mit 6 discrete values (bin nummer 0..5), squeeze letzte dim weg nehmen\n",
    "        # - current_q_values = Tensor(128,4)   wobei 4 Actions mit 6 continous values\n",
    "        current_q_values = self.q(states).gather(2, actions).squeeze(-1)        # 128, 4\n",
    "\n",
    "        with torch.no_grad():\n",
    "            argmax = torch.argmax(self.q(next_states), dim = 2)\n",
    "            # Target ist zuständig für nächsten State, Online zuständig für aktuellen State\n",
    "            max_next_q_vals = self.target(next_states).gather(2, argmax.unsqueeze(2)).squeeze(-1)\n",
    "            # Original\n",
    "            # max_next_q_vals = max_next_q_vals.mean(1, keepdim = True)\n",
    "            max_next_q_vals = max_next_q_vals.mean(1, keepdim = True).expand(-1,1) # max_next_q_vals.shape[1]) # Expand to 128,2 (Actions)\n",
    "\n",
    "        expected_q_vals = rewards + max_next_q_vals*0.99*masks\n",
    "        loss = F.mse_loss(expected_q_vals, current_q_values)\n",
    "        ### AUFGABE 3 ###\n",
    "        adam.zero_grad()                            # FIX: Zuerste zero_grad, dann backward\n",
    "        loss.backward()                             # Backward Step mit Gradienten Berechnen (Werte ändern)\n",
    "        \n",
    "        for p in self.q.parameters():               # Begrenzung Gradienten auf -1 .. 1\n",
    "            p.grad.data.clamp_(-1.,1.)\n",
    "        adam.step()\n",
    "        ### AUFGABE 3 ENDE ###\n",
    "\n",
    "        self.update_counter += 1\n",
    "        if self.update_counter % self.target_net_update_freq == 0: \n",
    "            self.update_counter = 0\n",
    "            # weighted update\n",
    "            # self.target.load_state_dict(self.q.state_dict())\n",
    "            self.target.update_model(self.q, self.target_net_update_tau)"
   ],
   "metadata": {
    "id": "3GT_dPolBmFg"
   },
   "execution_count": 5,
   "outputs": []
  },
  {
   "cell_type": "code",
   "source": [
    "class TensorEnv(gym.Wrapper):\n",
    "    def __init__(self, env_name):\n",
    "        super().__init__(gym.make(env_name))\n",
    "\n",
    "    def process(self, x):\n",
    "        return torch.tensor(x).reshape(1,-1).float()\n",
    "\n",
    "    def reset(self):\n",
    "        return self.process(super().reset())\n",
    "\n",
    "    def step(self, a):\n",
    "        ns, r, done, infos = super().step(a)\n",
    "        return self.process(ns), r, done, infos\n",
    "\n",
    "\n",
    "class BranchingTensorEnv(TensorEnv):\n",
    "    def __init__(self, env_name, n):\n",
    "        super().__init__(env_name)\n",
    "        self.n = n\n",
    "        self.discretized = np.linspace(max(self.action_space.low),max(self.action_space.high), self.n)    # bins=8, aus countinous action werden 6 bins gemacht\n",
    "        print(\"Discretiezed action space:\")\n",
    "        print(self.discretized)\n",
    "        # FIX: Output\n",
    "        # Discretiezed action space:\n",
    "        # [-2. -1.42857143 -0.85714286 -0.28571429  0.28571429  0.85714286 1.42857143  2.]\n",
    "\n",
    "    def step(self, a):\n",
    "        # aus 4 actions werden die diskretisierten Werte erstellt anhand\n",
    "        action = np.array([self.discretized[aa] for aa in a])\n",
    "        return super().step(action)"
   ],
   "metadata": {
    "id": "0fLyKGp-BpEV"
   },
   "execution_count": 6,
   "outputs": []
  },
  {
   "cell_type": "code",
   "source": [
    "# Discretization of continous action space to linespace with n bins\n",
    "bins = 8                                        # FIX: Unterteilung Continous Space in Behälter\n",
    "                                                # sonst können keine Erfahrungen gesammelt werden\n",
    "                                                # da es zu viele Möglichkeiten gibt!\n",
    "env = BranchingTensorEnv('Pendulum-v1', bins)\n",
    "\n",
    "# Initialize Agent (with Branching-Q-Network and Target-Branching-Q-Network), Memory and Optimizer\n",
    "config = AgentConfig()\n",
    "agent = BranchingDQNAgent(env.observation_space.shape[0], env.action_space.shape[0], bins, config)\n",
    "memory = ExperienceReplayMemory(config.memory_size)\n",
    "optimizer = optim.Adam(agent.q.parameters(), lr = config.lr)\n",
    "\n",
    "s = env.reset()\n",
    "ep_reward = 0.\n",
    "recap = []\n",
    "\n",
    "rewards = []\n",
    "\n",
    "p_bar = tqdm(total = config.max_frames)\n",
    "for frame in range(config.max_frames):\n",
    "\n",
    "    epsilon = config.epsilon_by_frame(frame)\n",
    "\n",
    "    if np.random.random() > epsilon:\n",
    "        action = agent.get_action(s)\n",
    "    else:\n",
    "        action = np.random.randint(0, bins, size = env.action_space.shape[0])\n",
    "\n",
    "    ns, r, done, infos = env.step(action)\n",
    "    ep_reward += r\n",
    "\n",
    "    rewards.append(r)\n",
    "\n",
    "    if done:\n",
    "        ns = env.reset()\n",
    "        recap.append(ep_reward)\n",
    "        p_bar.set_description('Rew: {:.3f}'.format(ep_reward))\n",
    "        ep_reward = 0.\n",
    "\n",
    "    # Umwandlung zu listen\n",
    "    memory.push((s.reshape(-1).numpy().tolist(), action, r, ns.reshape(-1).numpy().tolist(), 0. if done else 1.))\n",
    "    s = ns\n",
    "\n",
    "    p_bar.update(1)\n",
    "\n",
    "    if frame > config.learning_starts:\n",
    "        agent.update_policy(optimizer, memory, config)\n",
    "\n",
    "\n",
    "p_bar.close()\n"
   ],
   "metadata": {
    "colab": {
     "base_uri": "https://localhost:8080/"
    },
    "id": "d9R4yHUkBuHS",
    "outputId": "8e453646-685b-48d3-f0d5-46c83ba61888"
   },
   "execution_count": 12,
   "outputs": [
    {
     "name": "stdout",
     "output_type": "stream",
     "text": [
      "Discretiezed action space:\n",
      "[-2.         -1.42857143 -0.85714286 -0.28571429  0.28571429  0.85714286\n",
      "  1.42857143  2.        ]\n"
     ]
    },
    {
     "name": "stderr",
     "output_type": "stream",
     "text": [
      "  0%|          | 0/10000 [00:00<?, ?it/s]"
     ]
    },
    {
     "ename": "KeyboardInterrupt",
     "evalue": "",
     "output_type": "error",
     "traceback": [
      "\u001B[1;31m---------------------------------------------------------------------------\u001B[0m",
      "\u001B[1;31mKeyboardInterrupt\u001B[0m                         Traceback (most recent call last)",
      "Input \u001B[1;32mIn [12]\u001B[0m, in \u001B[0;36m<module>\u001B[1;34m\u001B[0m\n\u001B[0;32m     35\u001B[0m     ns \u001B[38;5;241m=\u001B[39m env\u001B[38;5;241m.\u001B[39mreset()\n\u001B[0;32m     36\u001B[0m     recap\u001B[38;5;241m.\u001B[39mappend(ep_reward)\n\u001B[1;32m---> 37\u001B[0m     \u001B[43mp_bar\u001B[49m\u001B[38;5;241m.\u001B[39mset_description(\u001B[38;5;124m'\u001B[39m\u001B[38;5;124mRew: \u001B[39m\u001B[38;5;132;01m{:.3f}\u001B[39;00m\u001B[38;5;124m'\u001B[39m\u001B[38;5;241m.\u001B[39mformat(ep_reward))\n\u001B[0;32m     38\u001B[0m     ep_reward \u001B[38;5;241m=\u001B[39m \u001B[38;5;241m0.\u001B[39m\n\u001B[0;32m     40\u001B[0m \u001B[38;5;66;03m# Umwandlung zu listen\u001B[39;00m\n",
      "Input \u001B[1;32mIn [12]\u001B[0m, in \u001B[0;36m<module>\u001B[1;34m\u001B[0m\n\u001B[0;32m     35\u001B[0m     ns \u001B[38;5;241m=\u001B[39m env\u001B[38;5;241m.\u001B[39mreset()\n\u001B[0;32m     36\u001B[0m     recap\u001B[38;5;241m.\u001B[39mappend(ep_reward)\n\u001B[1;32m---> 37\u001B[0m     \u001B[43mp_bar\u001B[49m\u001B[38;5;241m.\u001B[39mset_description(\u001B[38;5;124m'\u001B[39m\u001B[38;5;124mRew: \u001B[39m\u001B[38;5;132;01m{:.3f}\u001B[39;00m\u001B[38;5;124m'\u001B[39m\u001B[38;5;241m.\u001B[39mformat(ep_reward))\n\u001B[0;32m     38\u001B[0m     ep_reward \u001B[38;5;241m=\u001B[39m \u001B[38;5;241m0.\u001B[39m\n\u001B[0;32m     40\u001B[0m \u001B[38;5;66;03m# Umwandlung zu listen\u001B[39;00m\n",
      "File \u001B[1;32m_pydevd_bundle\\pydevd_cython_win32_39_64.pyx:1180\u001B[0m, in \u001B[0;36m_pydevd_bundle.pydevd_cython_win32_39_64.SafeCallWrapper.__call__\u001B[1;34m()\u001B[0m\n",
      "File \u001B[1;32m_pydevd_bundle\\pydevd_cython_win32_39_64.pyx:621\u001B[0m, in \u001B[0;36m_pydevd_bundle.pydevd_cython_win32_39_64.PyDBFrame.trace_dispatch\u001B[1;34m()\u001B[0m\n",
      "File \u001B[1;32m_pydevd_bundle\\pydevd_cython_win32_39_64.pyx:930\u001B[0m, in \u001B[0;36m_pydevd_bundle.pydevd_cython_win32_39_64.PyDBFrame.trace_dispatch\u001B[1;34m()\u001B[0m\n",
      "File \u001B[1;32m_pydevd_bundle\\pydevd_cython_win32_39_64.pyx:921\u001B[0m, in \u001B[0;36m_pydevd_bundle.pydevd_cython_win32_39_64.PyDBFrame.trace_dispatch\u001B[1;34m()\u001B[0m\n",
      "File \u001B[1;32m_pydevd_bundle\\pydevd_cython_win32_39_64.pyx:318\u001B[0m, in \u001B[0;36m_pydevd_bundle.pydevd_cython_win32_39_64.PyDBFrame.do_wait_suspend\u001B[1;34m()\u001B[0m\n",
      "File \u001B[1;32mC:\\Program Files\\JetBrains\\PyCharm 2021.3\\plugins\\python\\helpers\\pydev\\pydevd.py:1147\u001B[0m, in \u001B[0;36mPyDB.do_wait_suspend\u001B[1;34m(self, thread, frame, event, arg, send_suspend_message, is_unhandled_exception)\u001B[0m\n\u001B[0;32m   1144\u001B[0m         from_this_thread\u001B[38;5;241m.\u001B[39mappend(frame_id)\n\u001B[0;32m   1146\u001B[0m \u001B[38;5;28;01mwith\u001B[39;00m \u001B[38;5;28mself\u001B[39m\u001B[38;5;241m.\u001B[39m_threads_suspended_single_notification\u001B[38;5;241m.\u001B[39mnotify_thread_suspended(thread_id, stop_reason):\n\u001B[1;32m-> 1147\u001B[0m     \u001B[38;5;28;43mself\u001B[39;49m\u001B[38;5;241;43m.\u001B[39;49m\u001B[43m_do_wait_suspend\u001B[49m\u001B[43m(\u001B[49m\u001B[43mthread\u001B[49m\u001B[43m,\u001B[49m\u001B[43m \u001B[49m\u001B[43mframe\u001B[49m\u001B[43m,\u001B[49m\u001B[43m \u001B[49m\u001B[43mevent\u001B[49m\u001B[43m,\u001B[49m\u001B[43m \u001B[49m\u001B[43marg\u001B[49m\u001B[43m,\u001B[49m\u001B[43m \u001B[49m\u001B[43msuspend_type\u001B[49m\u001B[43m,\u001B[49m\u001B[43m \u001B[49m\u001B[43mfrom_this_thread\u001B[49m\u001B[43m)\u001B[49m\n",
      "File \u001B[1;32mC:\\Program Files\\JetBrains\\PyCharm 2021.3\\plugins\\python\\helpers\\pydev\\pydevd.py:1162\u001B[0m, in \u001B[0;36mPyDB._do_wait_suspend\u001B[1;34m(self, thread, frame, event, arg, suspend_type, from_this_thread)\u001B[0m\n\u001B[0;32m   1159\u001B[0m             \u001B[38;5;28mself\u001B[39m\u001B[38;5;241m.\u001B[39m_call_mpl_hook()\n\u001B[0;32m   1161\u001B[0m         \u001B[38;5;28mself\u001B[39m\u001B[38;5;241m.\u001B[39mprocess_internal_commands()\n\u001B[1;32m-> 1162\u001B[0m         \u001B[43mtime\u001B[49m\u001B[38;5;241;43m.\u001B[39;49m\u001B[43msleep\u001B[49m\u001B[43m(\u001B[49m\u001B[38;5;241;43m0.01\u001B[39;49m\u001B[43m)\u001B[49m\n\u001B[0;32m   1164\u001B[0m \u001B[38;5;28mself\u001B[39m\u001B[38;5;241m.\u001B[39mcancel_async_evaluation(get_current_thread_id(thread), \u001B[38;5;28mstr\u001B[39m(\u001B[38;5;28mid\u001B[39m(frame)))\n\u001B[0;32m   1166\u001B[0m \u001B[38;5;66;03m# process any stepping instructions\u001B[39;00m\n",
      "\u001B[1;31mKeyboardInterrupt\u001B[0m: "
     ]
    }
   ]
  },
  {
   "cell_type": "code",
   "source": [
    "print(\"\")\n",
    "print(\"#\")\n",
    "print(\"# RECAP\")\n",
    "print(\"#\")\n",
    "print(len(recap))\n",
    "print(recap)\n",
    "\n",
    "# plot\n",
    "plt.cla()\n",
    "plt.plot(recap, c = 'r', alpha = 0.3)\n",
    "# plt.plot(gaussian_filter1d(rewards, sigma = 5), c = 'r', label = 'Rewards')\n",
    "plt.xlabel('Games')\n",
    "plt.ylabel('Recap')\n",
    "plt.title('Branching DDQN: {}'.format('Pendulum-v1'))\n"
   ],
   "metadata": {
    "colab": {
     "base_uri": "https://localhost:8080/",
     "height": 450
    },
    "id": "zE430c1fwxko",
    "outputId": "e3b774ea-f073-4bef-8138-c0559e0d0373"
   },
   "execution_count": 10,
   "outputs": [
    {
     "name": "stdout",
     "output_type": "stream",
     "text": [
      "\n",
      "#\n",
      "# RECAP\n",
      "#\n",
      "50\n",
      "[-1680.024580571233, -1452.780814390986, -1228.8386780010237, -1665.212351688109, -1539.8870283621216, -1378.0542946391429, -1332.0874090034845, -1468.6085986728779, -1552.6765862028483, -1476.4414921188686, -1556.5848703709569, -1479.6761367461274, -1033.6046647645405, -1048.7920701641108, -1052.3986139616393, -1050.5399681820518, -1532.0471565507044, -1498.736924671351, -1497.7930940825868, -1457.75446999418, -1438.4828982809934, -1264.449888774949, -1465.4825739556773, -1079.7982823977716, -1519.546449281046, -1369.344323003895, -1333.3510912666327, -1423.2137689701708, -1467.710722447611, -1156.6379398868655, -1311.2895126566743, -1335.1810582561889, -1353.426594074641, -1281.5954615772328, -1352.931280384957, -1386.6963346960338, -1264.8132533571918, -1238.5746661549153, -1176.3897662079764, -1251.258716683365, -1250.7284717780326, -1362.8709603454656, -1408.8845792261802, -1406.196518827834, -1373.1131049256467, -1219.6034853680949, -1303.0056466784729, -1392.0128394897563, -1339.3991019205712, -1191.8660105288075]\n"
     ]
    },
    {
     "data": {
      "text/plain": "Text(0.5, 1.0, 'Branching DDQN: Pendulum-v1')"
     },
     "execution_count": 10,
     "metadata": {},
     "output_type": "execute_result"
    },
    {
     "data": {
      "text/plain": "<Figure size 432x288 with 1 Axes>",
      "image/png": "[encoded data removed]"
     },
     "metadata": {},
     "output_type": "display_data"
    }
   ]
  },
  {
   "cell_type": "code",
   "execution_count": null,
   "outputs": [],
   "source": [],
   "metadata": {
    "collapsed": false,
    "pycharm": {
     "name": "#%%\n"
    }
   }
  }
 ]
}