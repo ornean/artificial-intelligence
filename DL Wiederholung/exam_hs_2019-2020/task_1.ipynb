{
 "cells": [
  {
   "cell_type": "code",
   "execution_count": 3,
   "outputs": [],
   "source": [
    "import torch\n",
    "from torch import nn\n",
    "from torch.utils.data import DataLoader, random_split\n",
    "from torchvision import datasets\n",
    "from torchvision.transforms import ToTensor\n"
   ],
   "metadata": {
    "collapsed": false,
    "pycharm": {
     "name": "#%%\n"
    }
   }
  },
  {
   "cell_type": "code",
   "execution_count": 4,
   "outputs": [
    {
     "name": "stdout",
     "output_type": "stream",
     "text": [
      "cpu\n"
     ]
    }
   ],
   "source": [
    "cuda = torch.cuda.is_available()\n",
    "device = torch.device(\"cuda\" if cuda else \"cpu\")\n",
    "print(device)"
   ],
   "metadata": {
    "collapsed": false,
    "pycharm": {
     "name": "#%%\n"
    }
   }
  },
  {
   "cell_type": "code",
   "execution_count": 5,
   "outputs": [],
   "source": [
    "training_data = datasets.FashionMNIST(\n",
    "    root=\"data\",\n",
    "    train=True,\n",
    "    download=True,\n",
    "    transform=ToTensor())\n",
    "\n",
    "training_data_len = len(training_data)\n",
    "training_data, validation_data = random_split(training_data,[int(5/6*training_data_len),int(training_data_len/6)])\n",
    "\n",
    "# Download test data from open datasets.\n",
    "test_data = datasets.FashionMNIST(\n",
    "    root=\"data\",\n",
    "    train=False,\n",
    "    download=True,\n",
    "    transform=ToTensor())"
   ],
   "metadata": {
    "collapsed": false,
    "pycharm": {
     "name": "#%%\n"
    }
   }
  },
  {
   "cell_type": "code",
   "execution_count": 6,
   "outputs": [
    {
     "name": "stdout",
     "output_type": "stream",
     "text": [
      "NeuralNetwork(\n",
      "  (linear_relu_stack): Sequential(\n",
      "    (0): Flatten(start_dim=1, end_dim=-1)\n",
      "    (1): Linear(in_features=784, out_features=128, bias=True)\n",
      "    (2): ReLU()\n",
      "    (3): Linear(in_features=128, out_features=10, bias=True)\n",
      "    (4): Softmax(dim=None)\n",
      "  )\n",
      ")\n"
     ]
    }
   ],
   "source": [
    "class NeuralNetwork(nn.Module):\n",
    "    def __init__(self, input_size: int):\n",
    "        super().__init__()\n",
    "        self.input_size = input_size\n",
    "\n",
    "        self.linear_relu_stack = nn.Sequential(  # Layer 2..n, einfache Netzwerk übereinander (Sequential)\n",
    "            nn.Flatten(),\n",
    "            nn.Linear(self.input_size, 128),  # Input 28x28, Output = 128\n",
    "            nn.ReLU(),\n",
    "            nn.Linear(128, 10),  # Input 128, Output = 10 / Predictions\n",
    "            nn.Softmax())\n",
    "\n",
    "    def forward(self, x):\n",
    "        x = self.linear_relu_stack(x)\n",
    "        return x\n",
    "\n",
    "\n",
    "model = NeuralNetwork(input_size=28 * 28).to(device)  # Angabe wo das ausgeführt werden soll\n",
    "print(model)"
   ],
   "metadata": {
    "collapsed": false,
    "pycharm": {
     "name": "#%%\n"
    }
   }
  },
  {
   "cell_type": "markdown",
   "source": [],
   "metadata": {
    "collapsed": false
   }
  },
  {
   "cell_type": "code",
   "execution_count": 7,
   "outputs": [],
   "source": [
    "def train(dataloader, model, loss_fn, optimizer):\n",
    "    size = len(dataloader.dataset)\n",
    "\n",
    "    model.train()\n",
    "\n",
    "    for batch, (X, y) in enumerate(dataloader):\n",
    "        X, y = X.to(device), y.to(device)\n",
    "        # Compute prediction error\n",
    "        pred = model(X)\n",
    "        #if X dann trainiere auf model 2\n",
    "        loss = loss_fn(pred, y)\n",
    "\n",
    "        # Backpropagation\n",
    "        optimizer.zero_grad()\n",
    "        loss.backward()\n",
    "        optimizer.step()\n",
    "\n",
    "        if batch % 100 == 0:\n",
    "            loss, current = loss.item(), batch * len(X)\n",
    "            print(f\"loss: {loss:>7f} [{current:>5d}/{size:>5d}]\")"
   ],
   "metadata": {
    "collapsed": false,
    "pycharm": {
     "name": "#%%\n"
    }
   }
  },
  {
   "cell_type": "code",
   "execution_count": 8,
   "outputs": [],
   "source": [
    "def validate(dataloader, model, loss_fn):\n",
    "    size = len(dataloader.dataset)\n",
    "    num_batches = len(dataloader)\n",
    "    model.eval()\n",
    "    test_loss, correct = 0, 0\n",
    "\n",
    "    with torch.no_grad():\n",
    "        for X, y in dataloader:\n",
    "            X, y = X.to(device), y.to(device)\n",
    "\n",
    "            pred = model(X)\n",
    "            test_loss += loss_fn(pred, y).item()\n",
    "            correct += (pred.argmax(1) == y).type(torch.float).sum().item()\n",
    "\n",
    "        test_loss /= num_batches\n",
    "        correct /= size\n",
    "        print(f\"Validation Error: \\n Accuracy: {(100 * correct):>0.3f}%, Avg loss: {test_loss:>8f} \\n\")"
   ],
   "metadata": {
    "collapsed": false,
    "pycharm": {
     "name": "#%%\n"
    }
   }
  },
  {
   "cell_type": "code",
   "execution_count": 9,
   "outputs": [],
   "source": [
    "def test(dataloader, model, loss_fn):\n",
    "    size = len(dataloader.dataset)\n",
    "    num_batches = len(dataloader)\n",
    "    model.eval()\n",
    "    test_loss, correct = 0, 0\n",
    "\n",
    "    with torch.no_grad():\n",
    "        for X, y in dataloader:\n",
    "            X, y = X.to(device), y.to(device)\n",
    "\n",
    "            pred = model(X)\n",
    "            test_loss += loss_fn(pred, y).item()\n",
    "            correct += (pred.argmax(1) == y).type(torch.float).sum().item()\n",
    "\n",
    "        test_loss /= num_batches\n",
    "        correct /= size\n",
    "        print(f\"Test Error: \\n Accuracy: {(100 * correct):>0.3f}%, Avg loss: {test_loss:>8f} \\n\")"
   ],
   "metadata": {
    "collapsed": false,
    "pycharm": {
     "name": "#%%\n"
    }
   }
  },
  {
   "cell_type": "code",
   "execution_count": 11,
   "outputs": [
    {
     "name": "stdout",
     "output_type": "stream",
     "text": [
      "Epoch 0\n",
      "-------------------------------\n",
      "loss: 1.626443 [    0/50000]\n",
      "loss: 1.589259 [ 6400/50000]\n",
      "loss: 1.561339 [12800/50000]\n",
      "loss: 1.704246 [19200/50000]\n",
      "loss: 1.617939 [25600/50000]\n",
      "loss: 1.680791 [32000/50000]\n",
      "loss: 1.632792 [38400/50000]\n",
      "loss: 1.606114 [44800/50000]\n",
      "Validation Error: \n",
      " Accuracy: 84.310%, Avg loss: 1.624021 \n",
      "\n",
      "Test Error: \n",
      " Accuracy: 83.290%, Avg loss: 1.632201 \n",
      "\n",
      "Epoch 1\n",
      "-------------------------------\n",
      "loss: 1.602675 [    0/50000]\n",
      "loss: 1.568006 [ 6400/50000]\n",
      "loss: 1.544651 [12800/50000]\n",
      "loss: 1.682053 [19200/50000]\n",
      "loss: 1.612762 [25600/50000]\n",
      "loss: 1.654423 [32000/50000]\n",
      "loss: 1.626034 [38400/50000]\n",
      "loss: 1.605203 [44800/50000]\n",
      "Validation Error: \n",
      " Accuracy: 83.950%, Avg loss: 1.624079 \n",
      "\n",
      "Test Error: \n",
      " Accuracy: 82.920%, Avg loss: 1.634968 \n",
      "\n",
      "Epoch 2\n",
      "-------------------------------\n",
      "loss: 1.625419 [    0/50000]\n",
      "loss: 1.562597 [ 6400/50000]\n",
      "loss: 1.525726 [12800/50000]\n",
      "loss: 1.672470 [19200/50000]\n",
      "loss: 1.601246 [25600/50000]\n",
      "loss: 1.646044 [32000/50000]\n",
      "loss: 1.588107 [38400/50000]\n",
      "loss: 1.607258 [44800/50000]\n",
      "Validation Error: \n",
      " Accuracy: 85.480%, Avg loss: 1.608415 \n",
      "\n",
      "Test Error: \n",
      " Accuracy: 84.860%, Avg loss: 1.617230 \n",
      "\n",
      "Epoch 3\n",
      "-------------------------------\n",
      "loss: 1.596793 [    0/50000]\n",
      "loss: 1.558176 [ 6400/50000]\n",
      "loss: 1.551487 [12800/50000]\n",
      "loss: 1.665614 [19200/50000]\n",
      "loss: 1.596630 [25600/50000]\n",
      "loss: 1.635195 [32000/50000]\n",
      "loss: 1.621018 [38400/50000]\n",
      "loss: 1.615868 [44800/50000]\n",
      "Validation Error: \n",
      " Accuracy: 86.330%, Avg loss: 1.600384 \n",
      "\n",
      "Test Error: \n",
      " Accuracy: 85.380%, Avg loss: 1.610141 \n",
      "\n",
      "Epoch 4\n",
      "-------------------------------\n",
      "loss: 1.577934 [    0/50000]\n",
      "loss: 1.559455 [ 6400/50000]\n",
      "loss: 1.591958 [12800/50000]\n",
      "loss: 1.674912 [19200/50000]\n",
      "loss: 1.586666 [25600/50000]\n",
      "loss: 1.656294 [32000/50000]\n",
      "loss: 1.608092 [38400/50000]\n",
      "loss: 1.622400 [44800/50000]\n",
      "Validation Error: \n",
      " Accuracy: 86.400%, Avg loss: 1.599002 \n",
      "\n",
      "Test Error: \n",
      " Accuracy: 85.610%, Avg loss: 1.607516 \n",
      "\n",
      "Epoch 5\n",
      "-------------------------------\n",
      "loss: 1.578942 [    0/50000]\n",
      "loss: 1.563581 [ 6400/50000]\n",
      "loss: 1.552154 [12800/50000]\n",
      "loss: 1.668829 [19200/50000]\n",
      "loss: 1.609278 [25600/50000]\n",
      "loss: 1.625700 [32000/50000]\n",
      "loss: 1.611305 [38400/50000]\n",
      "loss: 1.607606 [44800/50000]\n",
      "Validation Error: \n",
      " Accuracy: 86.570%, Avg loss: 1.597604 \n",
      "\n",
      "Test Error: \n",
      " Accuracy: 85.780%, Avg loss: 1.605722 \n",
      "\n",
      "Epoch 6\n",
      "-------------------------------\n",
      "loss: 1.566949 [    0/50000]\n",
      "loss: 1.552343 [ 6400/50000]\n",
      "loss: 1.512830 [12800/50000]\n",
      "loss: 1.661758 [19200/50000]\n",
      "loss: 1.604272 [25600/50000]\n",
      "loss: 1.598862 [32000/50000]\n",
      "loss: 1.614624 [38400/50000]\n",
      "loss: 1.608212 [44800/50000]\n",
      "Validation Error: \n",
      " Accuracy: 86.460%, Avg loss: 1.597034 \n",
      "\n",
      "Test Error: \n",
      " Accuracy: 85.990%, Avg loss: 1.604088 \n",
      "\n",
      "Epoch 7\n",
      "-------------------------------\n",
      "loss: 1.580726 [    0/50000]\n",
      "loss: 1.541070 [ 6400/50000]\n",
      "loss: 1.529408 [12800/50000]\n",
      "loss: 1.662767 [19200/50000]\n",
      "loss: 1.589552 [25600/50000]\n",
      "loss: 1.608417 [32000/50000]\n",
      "loss: 1.605912 [38400/50000]\n",
      "loss: 1.612117 [44800/50000]\n",
      "Validation Error: \n",
      " Accuracy: 86.730%, Avg loss: 1.594188 \n",
      "\n",
      "Test Error: \n",
      " Accuracy: 85.990%, Avg loss: 1.602517 \n",
      "\n",
      "Epoch 8\n",
      "-------------------------------\n",
      "loss: 1.564657 [    0/50000]\n",
      "loss: 1.539263 [ 6400/50000]\n",
      "loss: 1.538760 [12800/50000]\n",
      "loss: 1.650699 [19200/50000]\n",
      "loss: 1.581774 [25600/50000]\n",
      "loss: 1.608606 [32000/50000]\n",
      "loss: 1.581247 [38400/50000]\n",
      "loss: 1.631613 [44800/50000]\n",
      "Validation Error: \n",
      " Accuracy: 86.770%, Avg loss: 1.593911 \n",
      "\n",
      "Test Error: \n",
      " Accuracy: 86.000%, Avg loss: 1.601254 \n",
      "\n",
      "Epoch 9\n",
      "-------------------------------\n",
      "loss: 1.574639 [    0/50000]\n",
      "loss: 1.548884 [ 6400/50000]\n",
      "loss: 1.550401 [12800/50000]\n",
      "loss: 1.651935 [19200/50000]\n",
      "loss: 1.585715 [25600/50000]\n",
      "loss: 1.593640 [32000/50000]\n",
      "loss: 1.600050 [38400/50000]\n",
      "loss: 1.626548 [44800/50000]\n",
      "Validation Error: \n",
      " Accuracy: 86.170%, Avg loss: 1.599428 \n",
      "\n",
      "Test Error: \n",
      " Accuracy: 85.540%, Avg loss: 1.605566 \n",
      "\n"
     ]
    }
   ],
   "source": [
    "loss_fn = nn.CrossEntropyLoss()  # MSE\n",
    "\n",
    "optimizer = torch.optim.Adam(model.parameters(), lr=1e-3)  # step, update von params = params - lr * grad\n",
    "\n",
    "batch_size = 64\n",
    "train_dataloader = DataLoader(training_data, batch_size=batch_size)\n",
    "validation_dataloader = DataLoader(validation_data, batch_size=batch_size, shuffle=True)\n",
    "test_dataloader = DataLoader(test_data, batch_size=batch_size, shuffle=True)\n",
    "\n",
    "for epoch in range(10):\n",
    "    print(f\"Epoch {epoch}\\n-------------------------------\")\n",
    "    train(dataloader=train_dataloader, model=model, loss_fn=loss_fn, optimizer=optimizer)\n",
    "    validate(dataloader=validation_dataloader, model=model, loss_fn=loss_fn)\n",
    "    test(dataloader=test_dataloader, model=model, loss_fn=loss_fn)"
   ],
   "metadata": {
    "collapsed": false,
    "pycharm": {
     "name": "#%%\n"
    }
   }
  },
  {
   "cell_type": "code",
   "execution_count": null,
   "outputs": [],
   "source": [],
   "metadata": {
    "collapsed": false,
    "pycharm": {
     "name": "#%%\n"
    }
   }
  }
 ],
 "metadata": {
  "kernelspec": {
   "display_name": "Python 3",
   "language": "python",
   "name": "python3"
  },
  "language_info": {
   "codemirror_mode": {
    "name": "ipython",
    "version": 2
   },
   "file_extension": ".py",
   "mimetype": "text/x-python",
   "name": "python",
   "nbconvert_exporter": "python",
   "pygments_lexer": "ipython2",
   "version": "2.7.6"
  }
 },
 "nbformat": 4,
 "nbformat_minor": 0
}